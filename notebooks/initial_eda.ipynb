{
 "cells": [
  {
   "cell_type": "code",
   "execution_count": 1,
   "metadata": {},
   "outputs": [],
   "source": [
    "import pandas as pd\n",
    "import numpy as np\n",
    "import matplotlib.pyplot as plt\n",
    "import seaborn as sns\n",
    "\n",
    "raw_df = pd.read_csv('../data/2021-SxS-Data-and-Data-Info/NFCS 2021 State Data 220627.csv')"
   ]
  },
  {
   "cell_type": "markdown",
   "metadata": {},
   "source": [
    "## Skinny it Up Some!\n"
   ]
  },
  {
   "cell_type": "code",
   "execution_count": 2,
   "metadata": {},
   "outputs": [],
   "source": [
    "skinny_df = raw_df.drop(columns=['A50B', 'E20', 'F2_1','wgt_s3', 'wgt_d2', 'wgt_n2', 'G23',\n",
    "                                            'A40','A21_2015', 'J10', 'J50', 'J51_1', 'J51_2', 'J51_3', 'J51_4', 'J51_5',\n",
    "                                            'J51_6', 'J51_98','J51_99', 'J52','J33_40', 'J53', 'J41_1', 'J41_2', 'J41_3',\n",
    "                                            'J42_2','J43', 'B4', 'B41_1', 'B41_2', 'B31', 'B42', 'B43', 'C2_2012', 'C3_2012',\n",
    "                                            'C10_2012','C11_2012', 'E7', 'E8', 'E20', 'E15_2015', 'F2_1', 'F2_2', 'F2_3',\n",
    "                                            'F2_4', 'F2_5', 'F2_6', 'G1', 'G20', 'G30_1', 'G30_2','G30_3', 'G30_4', 'G30_5',\n",
    "                                            'G30_97',  'G30_98','G30_99',  'G33', 'G35', 'G25_1', 'G25_2', 'G25_3', 'G25_4',\n",
    "                                            'G25_5', 'H30_1','H30_2', 'M21_1', 'M21_2_2015', 'M21_3', 'M21_4', 'NFCSID', 'X3',\n",
    "                                            'J2', 'J8', 'J9', 'J20', 'G22_2015', 'G38', 'M6', 'M7','M8', 'M31', 'M50', 'M9', 'M10'])"
   ]
  },
  {
   "cell_type": "markdown",
   "metadata": {},
   "source": [
    "## Transforming Data set for better analysis\n",
    "All categories have been mapped to numerical values. I decided to map the numeric values back to the original categorical values to help me read the data better. To do this I needed to change the column names as well as the values of each column."
   ]
  },
  {
   "cell_type": "code",
   "execution_count": 3,
   "metadata": {},
   "outputs": [],
   "source": [
    "#Batch change column names\n",
    "#Get current column \"names\"\n",
    "col_codes= skinny_df.columns\n",
    "\n",
    "#Create list with meaningful column names\n",
    "col_names = ['state', 'division', 'region', 'gender', 'age_group', 'ethnicity', \n",
    "            'ed_lvl', 'marital_stat','lvng_arr','marital_stat_v2', '#_dep_chlds', 'hh_ann_inc', 'mil_stat', 'wrk_stat', 'ptr_wrk_stat', \n",
    "            'hh_ret_stat','knowledge_owner','caregiver_ed_lvl', 'fin_sat_lvl', 'spend_vs_income', 'bill_difficulty', 'income_var',\n",
    "            'rainyday_fund', 'child_ed_svng', 'credit_rtg', 'mnthly_leftovers', 'checking_acct', 'saving_acct','ret_plan',\n",
    "            'ira', 'contributes_to_ret', 'invests', 'owns_home', \n",
    "            '10k_expense', '10k_gift', 'expect_inheritance', 'num_cred_cards', 'health_ins', 'skipped_med', 'fin_conf_lvl',\n",
    "            'math_conf_lvl', 'knowledge_conf_lvl', 'fin_ed'\n",
    "            ]\n",
    "\n",
    "cols_final = dict(zip(col_codes, col_names))\n",
    "#replace column names \n",
    "updated_cols_df = skinny_df.rename(columns= cols_final)"
   ]
  },
  {
   "cell_type": "code",
   "execution_count": 4,
   "metadata": {},
   "outputs": [
    {
     "data": {
      "text/html": [
       "<div>\n",
       "<style scoped>\n",
       "    .dataframe tbody tr th:only-of-type {\n",
       "        vertical-align: middle;\n",
       "    }\n",
       "\n",
       "    .dataframe tbody tr th {\n",
       "        vertical-align: top;\n",
       "    }\n",
       "\n",
       "    .dataframe thead th {\n",
       "        text-align: right;\n",
       "    }\n",
       "</style>\n",
       "<table border=\"1\" class=\"dataframe\">\n",
       "  <thead>\n",
       "    <tr style=\"text-align: right;\">\n",
       "      <th></th>\n",
       "      <th>state</th>\n",
       "      <th>division</th>\n",
       "      <th>region</th>\n",
       "      <th>gender</th>\n",
       "      <th>age_group</th>\n",
       "      <th>ethnicity</th>\n",
       "      <th>ed_lvl</th>\n",
       "      <th>marital_stat</th>\n",
       "      <th>lvng_arr</th>\n",
       "      <th>marital_stat_v2</th>\n",
       "      <th>...</th>\n",
       "      <th>10k_expense</th>\n",
       "      <th>10k_gift</th>\n",
       "      <th>expect_inheritance</th>\n",
       "      <th>num_cred_cards</th>\n",
       "      <th>health_ins</th>\n",
       "      <th>skipped_med</th>\n",
       "      <th>fin_conf_lvl</th>\n",
       "      <th>math_conf_lvl</th>\n",
       "      <th>knowledge_conf_lvl</th>\n",
       "      <th>fin_ed</th>\n",
       "    </tr>\n",
       "  </thead>\n",
       "  <tbody>\n",
       "    <tr>\n",
       "      <th>0</th>\n",
       "      <td>41</td>\n",
       "      <td>5</td>\n",
       "      <td>3</td>\n",
       "      <td>2</td>\n",
       "      <td>2</td>\n",
       "      <td>1</td>\n",
       "      <td>6</td>\n",
       "      <td>1</td>\n",
       "      <td>2</td>\n",
       "      <td>1</td>\n",
       "      <td>...</td>\n",
       "      <td>1</td>\n",
       "      <td>1</td>\n",
       "      <td>1</td>\n",
       "      <td>2</td>\n",
       "      <td>1</td>\n",
       "      <td>2</td>\n",
       "      <td>7</td>\n",
       "      <td>6</td>\n",
       "      <td>6</td>\n",
       "      <td>2</td>\n",
       "    </tr>\n",
       "    <tr>\n",
       "      <th>1</th>\n",
       "      <td>36</td>\n",
       "      <td>3</td>\n",
       "      <td>2</td>\n",
       "      <td>2</td>\n",
       "      <td>2</td>\n",
       "      <td>1</td>\n",
       "      <td>6</td>\n",
       "      <td>4</td>\n",
       "      <td>1</td>\n",
       "      <td>3</td>\n",
       "      <td>...</td>\n",
       "      <td>2</td>\n",
       "      <td>2</td>\n",
       "      <td>2</td>\n",
       "      <td>7</td>\n",
       "      <td>1</td>\n",
       "      <td>2</td>\n",
       "      <td>1</td>\n",
       "      <td>1</td>\n",
       "      <td>2</td>\n",
       "      <td>2</td>\n",
       "    </tr>\n",
       "    <tr>\n",
       "      <th>2</th>\n",
       "      <td>3</td>\n",
       "      <td>8</td>\n",
       "      <td>4</td>\n",
       "      <td>1</td>\n",
       "      <td>6</td>\n",
       "      <td>1</td>\n",
       "      <td>6</td>\n",
       "      <td>4</td>\n",
       "      <td>1</td>\n",
       "      <td>3</td>\n",
       "      <td>...</td>\n",
       "      <td>2</td>\n",
       "      <td>2</td>\n",
       "      <td>2</td>\n",
       "      <td>3</td>\n",
       "      <td>1</td>\n",
       "      <td>2</td>\n",
       "      <td>7</td>\n",
       "      <td>7</td>\n",
       "      <td>6</td>\n",
       "      <td>2</td>\n",
       "    </tr>\n",
       "    <tr>\n",
       "      <th>3</th>\n",
       "      <td>3</td>\n",
       "      <td>8</td>\n",
       "      <td>4</td>\n",
       "      <td>2</td>\n",
       "      <td>4</td>\n",
       "      <td>2</td>\n",
       "      <td>2</td>\n",
       "      <td>1</td>\n",
       "      <td>2</td>\n",
       "      <td>1</td>\n",
       "      <td>...</td>\n",
       "      <td>2</td>\n",
       "      <td>2</td>\n",
       "      <td>2</td>\n",
       "      <td>2</td>\n",
       "      <td>1</td>\n",
       "      <td>2</td>\n",
       "      <td>7</td>\n",
       "      <td>6</td>\n",
       "      <td>5</td>\n",
       "      <td>3</td>\n",
       "    </tr>\n",
       "    <tr>\n",
       "      <th>4</th>\n",
       "      <td>36</td>\n",
       "      <td>3</td>\n",
       "      <td>2</td>\n",
       "      <td>2</td>\n",
       "      <td>4</td>\n",
       "      <td>1</td>\n",
       "      <td>3</td>\n",
       "      <td>4</td>\n",
       "      <td>1</td>\n",
       "      <td>3</td>\n",
       "      <td>...</td>\n",
       "      <td>2</td>\n",
       "      <td>2</td>\n",
       "      <td>98</td>\n",
       "      <td>7</td>\n",
       "      <td>1</td>\n",
       "      <td>2</td>\n",
       "      <td>6</td>\n",
       "      <td>6</td>\n",
       "      <td>5</td>\n",
       "      <td>3</td>\n",
       "    </tr>\n",
       "  </tbody>\n",
       "</table>\n",
       "<p>5 rows × 43 columns</p>\n",
       "</div>"
      ],
      "text/plain": [
       "   state  division  region  gender  age_group  ethnicity  ed_lvl  \\\n",
       "0     41         5       3       2          2          1       6   \n",
       "1     36         3       2       2          2          1       6   \n",
       "2      3         8       4       1          6          1       6   \n",
       "3      3         8       4       2          4          2       2   \n",
       "4     36         3       2       2          4          1       3   \n",
       "\n",
       "   marital_stat  lvng_arr  marital_stat_v2  ...  10k_expense  10k_gift  \\\n",
       "0             1         2                1  ...            1         1   \n",
       "1             4         1                3  ...            2         2   \n",
       "2             4         1                3  ...            2         2   \n",
       "3             1         2                1  ...            2         2   \n",
       "4             4         1                3  ...            2         2   \n",
       "\n",
       "   expect_inheritance  num_cred_cards health_ins  skipped_med fin_conf_lvl  \\\n",
       "0                   1               2          1            2            7   \n",
       "1                   2               7          1            2            1   \n",
       "2                   2               3          1            2            7   \n",
       "3                   2               2          1            2            7   \n",
       "4                  98               7          1            2            6   \n",
       "\n",
       "   math_conf_lvl  knowledge_conf_lvl  fin_ed  \n",
       "0              6                   6       2  \n",
       "1              1                   2       2  \n",
       "2              7                   6       2  \n",
       "3              6                   5       3  \n",
       "4              6                   5       3  \n",
       "\n",
       "[5 rows x 43 columns]"
      ]
     },
     "execution_count": 4,
     "metadata": {},
     "output_type": "execute_result"
    }
   ],
   "source": [
    "updated_cols_df.head()"
   ]
  },
  {
   "cell_type": "code",
   "execution_count": 5,
   "metadata": {},
   "outputs": [],
   "source": [
    "#State: replace numeric value for actual state name\n",
    "#States are mapped 1-51 in Ascending alphabetic order. District Of Columbia is 9.\n",
    "\n",
    "#Create Dictionary {num:state_name} ie.) {1 : Alaska}\n",
    "state_names = [\"Alabama\", \"Alaska\",  \"Arizona\",\"Arkansas\",  \"California\", \"Colorado\", \"Connecticut\", \n",
    "                \"Delaware\",\"District of Columbia\", \"Florida\", \"Georgia\", \"Hawaii\", \"Idaho\", \"Iowa\",  \"Illinois\", \"Indiana\", \n",
    "                \"Kansas\", \"Kentucky\", \"Louisiana\", \"Massachusetts\", \"Maryland\", \"Maine\", \"Michigan\", \"Minnesota\", \"Missouri\", \n",
    "                \"Mississippi\", \"Montana\", \"North Carolina\", \"North Dakota\", \"Nebraska\", \"New Hampshire\", \"New Jersey\", \n",
    "                \"New Mexico\", \"Nevada\", \"New York\", \"Ohio\", \"Oklahoma\", \"Oregon\", \"Pennsylvania\", \"Rhode Island\", \"South Carolina\", \n",
    "                \"South Dakota\", \"Tennessee\", \"Texas\", \"Utah\", \"Virginia\", \"Vermont\", \"Washington\", \"Wisconsin\", \"West Virginia\", \"Wyoming\"]\n",
    "\n",
    "state_names.sort()\n",
    "\n",
    "state_num_vals = list(range(1,52))\n",
    "\n",
    "state_dict = dict(zip(state_num_vals, state_names))\n",
    "\n",
    "#Replace all numerical values with state names\n",
    "updated_cols_df['state']=updated_cols_df['state'].replace(state_dict)"
   ]
  },
  {
   "cell_type": "code",
   "execution_count": 6,
   "metadata": {},
   "outputs": [],
   "source": [
    "#Census Division\n",
    "# Total of 9 Divisions\n",
    "\n",
    "#Create division dictionary\n",
    "div_num_vals = list(range(1,10))\n",
    "div_names = ['New England', 'Middle Atlantic','East North Central', 'West North Central', \n",
    "            'South Atlantic', 'East South Central', 'West South Central', 'Mountain', 'Pacific']\n",
    "\n",
    "div_dict = dict(zip(div_num_vals, div_names))\n",
    "\n",
    "#Replace all numerical values with division names\n",
    "updated_cols_df['division']=updated_cols_df['division'].replace(div_dict)"
   ]
  },
  {
   "cell_type": "code",
   "execution_count": 7,
   "metadata": {},
   "outputs": [],
   "source": [
    "#Census Region\n",
    "#Total of 4 Regions\n",
    "\n",
    "#Create region dictionary\n",
    "region_names = ['Northeast', 'Midwest', 'South', 'West']\n",
    "region_num_vals = list([1,2,3,4])\n",
    "reg_dict = dict(zip(region_num_vals, region_names))\n",
    "\n",
    "#Replace all numerical values with region names\n",
    "updated_cols_df['region']=updated_cols_df['region'].replace(reg_dict)"
   ]
  },
  {
   "cell_type": "code",
   "execution_count": 8,
   "metadata": {},
   "outputs": [],
   "source": [
    "#Gender\n",
    "updated_cols_df['gender']= updated_cols_df['gender'].replace({1: 'male', 2: 'female'})\n",
    "\n",
    "#Age Group\n",
    "age_dict = dict ({1: '18-24', 2: '25-34', 3: '35-44', 4: '45-54',\n",
    "                    5: '55-64', 6: '65+'})\n",
    "updated_cols_df['age_group']= updated_cols_df['age_group'].replace(age_dict)"
   ]
  },
  {
   "cell_type": "code",
   "execution_count": 9,
   "metadata": {},
   "outputs": [],
   "source": [
    "#ethnicity \n",
    "updated_cols_df['ethnicity']= updated_cols_df['ethnicity'].replace({1: 'white', 2: 'non-white'})"
   ]
  },
  {
   "cell_type": "code",
   "execution_count": 10,
   "metadata": {},
   "outputs": [],
   "source": [
    "#education level\n",
    "ed_labels = ['did not complete HS', 'HS Grad', 'GED', 'some college', 'Associates', 'Bachelors', 'Post Grad', 'declined']\n",
    "ed_vals = [1,2,3,4,5,6,7,99]\n",
    "ed_dict = dict(zip(ed_vals, ed_labels))\n",
    "updated_cols_df['ed_lvl']= updated_cols_df['ed_lvl'].replace(ed_dict)"
   ]
  },
  {
   "cell_type": "code",
   "execution_count": 11,
   "metadata": {},
   "outputs": [],
   "source": [
    "#Def function to replace values in column\n",
    "\n",
    "def change_cat_vals(df, c_name, vals, labels):\n",
    "    new_df = df.copy()\n",
    "    replace_dict = dict(zip(vals, labels))\n",
    "    new_df[c_name]=new_df[c_name].replace(replace_dict)\n",
    "    return new_df"
   ]
  },
  {
   "cell_type": "code",
   "execution_count": 12,
   "metadata": {},
   "outputs": [],
   "source": [
    "#marital status\n",
    "marital_vals = [1,2,3,4,5,99]\n",
    "marital_labels = ['married', 'single', 'separated', 'divorced', 'widowed/widower', 'declined']\n",
    "married_col = change_cat_vals(updated_cols_df, 'marital_stat', marital_vals, marital_labels)"
   ]
  },
  {
   "cell_type": "code",
   "execution_count": 13,
   "metadata": {},
   "outputs": [],
   "source": [
    "#marital status vs\n",
    "v2_vals = [1,2,3]\n",
    "v2_labels = ['married', 'lvng w/ ptr', 'single']\n",
    "married_v2 = change_cat_vals(married_col, 'marital_stat_v2', v2_vals, v2_labels)\n"
   ]
  },
  {
   "cell_type": "code",
   "execution_count": 14,
   "metadata": {},
   "outputs": [],
   "source": [
    "#num child deps\n",
    "dep_vals = [1,2,3,4,5,6,99]\n",
    "dep_labels = [1,2,3,4,0,0, 'declined']\n",
    "child_dep_df = change_cat_vals(married_v2, '#_dep_chlds', dep_vals, dep_labels)"
   ]
  },
  {
   "cell_type": "code",
   "execution_count": 15,
   "metadata": {},
   "outputs": [],
   "source": [
    "#Household Annual Income == hh_ann_inc\n",
    "#1st number is inclusive second number is not\n",
    "inc_vals =[1,2,3,4,5,6,7,8,9,10,98,99]\n",
    "inc_labels = ['<= 15k', '15k-25k', '25k-35k', '35k-50k', '50k-75k', '75k-100k', '100k-150k', '150k-200k', '200k-300k', '>=300k']\n",
    "hh_inc_df = change_cat_vals(child_dep_df, 'hh_ann_inc', inc_vals, inc_labels)"
   ]
  },
  {
   "cell_type": "code",
   "execution_count": 16,
   "metadata": {},
   "outputs": [],
   "source": [
    "#Military Status\n",
    "mil_vals = [1,2,3,99]\n",
    "mil_labels = ['current', 'previous','never', 'declined']\n",
    "mil_df = change_cat_vals(hh_inc_df, 'mil_stat', mil_vals, mil_labels)"
   ]
  },
  {
   "cell_type": "code",
   "execution_count": 17,
   "metadata": {},
   "outputs": [],
   "source": [
    "#Work/Employment Status\n",
    "wrk_vals = [1,2,3,4,5,6,7,8,99]\n",
    "wrk_labels = ['self-employed', 'full-time', 'part-time', 'homemaker', 'student', 'unable', 'unemployed', 'retired', 'declined']\n",
    "wrk_df = change_cat_vals(mil_df, 'wrk_stat', wrk_vals, wrk_labels)"
   ]
  },
  {
   "cell_type": "code",
   "execution_count": 18,
   "metadata": {},
   "outputs": [
    {
     "name": "stderr",
     "output_type": "stream",
     "text": [
      "/var/folders/t6/vtfks7dd2t9gw7pq2601sfcw0000gn/T/ipykernel_68897/1471404346.py:6: FutureWarning: Downcasting behavior in `replace` is deprecated and will be removed in a future version. To retain the old behavior, explicitly call `result.infer_objects(copy=False)`. To opt-in to the future behavior, set `pd.set_option('future.no_silent_downcasting', True)`\n",
      "  new_df[c_name]=new_df[c_name].replace(replace_dict)\n"
     ]
    }
   ],
   "source": [
    "## Household Retirement Status\n",
    "#True for if either self or spouse is retired\n",
    "ret_vals = [1,2,3]\n",
    "ret_labels = [False, True, True ]\n",
    "ret_df = change_cat_vals(wrk_df,'hh_ret_stat', ret_vals, ret_labels)\n"
   ]
  },
  {
   "cell_type": "code",
   "execution_count": 19,
   "metadata": {},
   "outputs": [],
   "source": [
    "#Caregiver Education Level\n",
    "ed2_df = change_cat_vals(ret_df, 'caregiver_ed_lvl', ed_vals, ed_labels)"
   ]
  },
  {
   "cell_type": "code",
   "execution_count": 20,
   "metadata": {},
   "outputs": [],
   "source": [
    "#Financial Satisfaction Level\n",
    "sat_val = [1,2,3,4,5,6,7,8,9,10,98,99]\n",
    "sat_label = [1,2,3,4,5,6,7,8,9,10, 'unknown', 'declined']\n",
    "fsat_df = change_cat_vals(ed2_df, 'fin_sat_lvl', sat_val, sat_label)"
   ]
  },
  {
   "cell_type": "code",
   "execution_count": 21,
   "metadata": {},
   "outputs": [],
   "source": [
    "#Spending VS Income\n",
    "s_vals =[1,2,3,98,99] \n",
    "s_labels = ['less', 'more', 'equal', 'unknown', 'declined']\n",
    "svi_df = change_cat_vals(fsat_df, 'spend_vs_income', s_vals, s_labels)"
   ]
  },
  {
   "cell_type": "code",
   "execution_count": 22,
   "metadata": {},
   "outputs": [],
   "source": [
    "#How difficult is it to cover bills\n",
    "b_vals = [ 1,2,3,98,99]\n",
    "b_labels = ['very', 'somewhat', 'none', 'unknown', 'declined']\n",
    "bill_df = change_cat_vals(svi_df, 'bill_difficulty', b_vals, b_labels)"
   ]
  },
  {
   "cell_type": "code",
   "execution_count": 27,
   "metadata": {},
   "outputs": [],
   "source": [
    "#income variability\n",
    "iv_vals = [1,2,3,98,99]\n",
    "iv_labels = ['same', 'occasional','often', 'unknown', 'declined']\n",
    "iv_df = change_cat_vals(bill_df, 'income_var', iv_vals, iv_labels)"
   ]
  },
  {
   "cell_type": "code",
   "execution_count": 30,
   "metadata": {},
   "outputs": [],
   "source": [
    "#Has established rainy day fund covers 3 months of expenses\n",
    "r_vals = [1,2,98,99]\n",
    "r_labels= [True, False, 'unknown', 'declined']\n",
    "rd_df = change_cat_vals(iv_df, 'rainyday_fund', r_vals, r_labels)"
   ]
  },
  {
   "cell_type": "code",
   "execution_count": 31,
   "metadata": {},
   "outputs": [
    {
     "data": {
      "text/plain": [
       "0         True\n",
       "1        False\n",
       "2         True\n",
       "3         True\n",
       "4        False\n",
       "         ...  \n",
       "27113    False\n",
       "27114    False\n",
       "27115     True\n",
       "27116    False\n",
       "27117     True\n",
       "Name: rainyday_fund, Length: 27118, dtype: object"
      ]
     },
     "execution_count": 31,
     "metadata": {},
     "output_type": "execute_result"
    }
   ],
   "source": [
    "rd_df['rainyday_fund']"
   ]
  },
  {
   "cell_type": "code",
   "execution_count": 25,
   "metadata": {},
   "outputs": [],
   "source": [
    "#Spouse/Partner Work/Emplyment Status\n",
    "##NEED TO FIX! Not converting\n",
    "p_wrk_vals = [1,2,3,4,5,6,7,8,99]\n",
    "p_wrk_labels = ['self-employed', 'full-time', 'part-time', 'homemaker', 'student', 'unable', 'unemployed', 'retired', 'declined']\n",
    "ptr_wrk_df = change_cat_vals(wrk_df, 'ptr_wrk_stat', p_wrk_vals, p_wrk_labels)"
   ]
  },
  {
   "cell_type": "code",
   "execution_count": 26,
   "metadata": {},
   "outputs": [],
   "source": [
    "#Most Knolwedgable about saving, investing etc \n",
    "k_vals = [1,2,3,98,99, ' ']\n",
    "k_labels = ['self', 'other', 'equal', 'unknown', 'declined', 'declined']\n",
    "k_df = change_cat_vals(ret_df,'knowledge_owner', k_vals, k_labels)"
   ]
  }
 ],
 "metadata": {
  "kernelspec": {
   "display_name": "base",
   "language": "python",
   "name": "python3"
  },
  "language_info": {
   "codemirror_mode": {
    "name": "ipython",
    "version": 3
   },
   "file_extension": ".py",
   "mimetype": "text/x-python",
   "name": "python",
   "nbconvert_exporter": "python",
   "pygments_lexer": "ipython3",
   "version": "3.11.7"
  }
 },
 "nbformat": 4,
 "nbformat_minor": 2
}
