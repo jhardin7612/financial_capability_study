{
 "cells": [
  {
   "cell_type": "code",
   "execution_count": 1,
   "metadata": {},
   "outputs": [],
   "source": [
    "import pandas as pd"
   ]
  },
  {
   "cell_type": "code",
   "execution_count": 3,
   "metadata": {},
   "outputs": [],
   "source": [
    "def csv_to_df(file_path:str):\n",
    "    \"\"\"\n",
    "    Takes in Relative Path for CSV file\n",
    "    Returns pandas dataframe\n",
    "    \"\"\"\n",
    "    return pd.read_csv(file_path)\n"
   ]
  },
  {
   "cell_type": "code",
   "execution_count": 14,
   "metadata": {},
   "outputs": [],
   "source": [
    "df = csv_to_df(\"../data/2021-SxS-Data-and-Data-Info/partial_cleaned_2021.csv\")"
   ]
  },
  {
   "cell_type": "code",
   "execution_count": 24,
   "metadata": {},
   "outputs": [],
   "source": [
    "def gen_big_3_df(df):\n",
    "    feature_df = df[['state','math_conf_lvl','fin_sat_lvl','fin_conf_lvl']]\n",
    "\n",
    "    # Define the columns and values to replace\n",
    "    columns_dict = {\n",
    "        'math_conf_lvl': [99, 98],\n",
    "        'fin_sat_lvl': [99, 98],\n",
    "        'fin_conf_lvl': [99, 98],\n",
    "   \n",
    "    }\n",
    "    # Loop over the dictionary to replace the values\n",
    "    for column, values in columns_dict.items():\n",
    "        for value in values:\n",
    "            feature_df.loc[feature_df[column] == value, column] = None\n",
    "    feature_df = feature_df.dropna()\n",
    "    return feature_df"
   ]
  },
  {
   "cell_type": "code",
   "execution_count": 23,
   "metadata": {},
   "outputs": [
    {
     "data": {
      "text/html": [
       "<div>\n",
       "<style scoped>\n",
       "    .dataframe tbody tr th:only-of-type {\n",
       "        vertical-align: middle;\n",
       "    }\n",
       "\n",
       "    .dataframe tbody tr th {\n",
       "        vertical-align: top;\n",
       "    }\n",
       "\n",
       "    .dataframe thead th {\n",
       "        text-align: right;\n",
       "    }\n",
       "</style>\n",
       "<table border=\"1\" class=\"dataframe\">\n",
       "  <thead>\n",
       "    <tr style=\"text-align: right;\">\n",
       "      <th></th>\n",
       "      <th>state</th>\n",
       "      <th>math_conf_lvl</th>\n",
       "      <th>fin_sat_lvl</th>\n",
       "      <th>fin_conf_lvl</th>\n",
       "    </tr>\n",
       "  </thead>\n",
       "  <tbody>\n",
       "    <tr>\n",
       "      <th>0</th>\n",
       "      <td>South Carolina</td>\n",
       "      <td>6.0</td>\n",
       "      <td>9.0</td>\n",
       "      <td>7.0</td>\n",
       "    </tr>\n",
       "    <tr>\n",
       "      <th>1</th>\n",
       "      <td>Ohio</td>\n",
       "      <td>1.0</td>\n",
       "      <td>4.0</td>\n",
       "      <td>1.0</td>\n",
       "    </tr>\n",
       "    <tr>\n",
       "      <th>2</th>\n",
       "      <td>Arizona</td>\n",
       "      <td>7.0</td>\n",
       "      <td>10.0</td>\n",
       "      <td>7.0</td>\n",
       "    </tr>\n",
       "    <tr>\n",
       "      <th>3</th>\n",
       "      <td>Arizona</td>\n",
       "      <td>6.0</td>\n",
       "      <td>9.0</td>\n",
       "      <td>7.0</td>\n",
       "    </tr>\n",
       "    <tr>\n",
       "      <th>4</th>\n",
       "      <td>Ohio</td>\n",
       "      <td>6.0</td>\n",
       "      <td>4.0</td>\n",
       "      <td>6.0</td>\n",
       "    </tr>\n",
       "    <tr>\n",
       "      <th>...</th>\n",
       "      <td>...</td>\n",
       "      <td>...</td>\n",
       "      <td>...</td>\n",
       "      <td>...</td>\n",
       "    </tr>\n",
       "    <tr>\n",
       "      <th>27113</th>\n",
       "      <td>Idaho</td>\n",
       "      <td>6.0</td>\n",
       "      <td>1.0</td>\n",
       "      <td>4.0</td>\n",
       "    </tr>\n",
       "    <tr>\n",
       "      <th>27114</th>\n",
       "      <td>Hawaii</td>\n",
       "      <td>7.0</td>\n",
       "      <td>1.0</td>\n",
       "      <td>3.0</td>\n",
       "    </tr>\n",
       "    <tr>\n",
       "      <th>27115</th>\n",
       "      <td>Hawaii</td>\n",
       "      <td>5.0</td>\n",
       "      <td>7.0</td>\n",
       "      <td>7.0</td>\n",
       "    </tr>\n",
       "    <tr>\n",
       "      <th>27116</th>\n",
       "      <td>District of Columbia</td>\n",
       "      <td>6.0</td>\n",
       "      <td>1.0</td>\n",
       "      <td>5.0</td>\n",
       "    </tr>\n",
       "    <tr>\n",
       "      <th>27117</th>\n",
       "      <td>Hawaii</td>\n",
       "      <td>7.0</td>\n",
       "      <td>5.0</td>\n",
       "      <td>6.0</td>\n",
       "    </tr>\n",
       "  </tbody>\n",
       "</table>\n",
       "<p>26420 rows × 4 columns</p>\n",
       "</div>"
      ],
      "text/plain": [
       "                      state  math_conf_lvl  fin_sat_lvl  fin_conf_lvl\n",
       "0            South Carolina            6.0          9.0           7.0\n",
       "1                      Ohio            1.0          4.0           1.0\n",
       "2                   Arizona            7.0         10.0           7.0\n",
       "3                   Arizona            6.0          9.0           7.0\n",
       "4                      Ohio            6.0          4.0           6.0\n",
       "...                     ...            ...          ...           ...\n",
       "27113                 Idaho            6.0          1.0           4.0\n",
       "27114                Hawaii            7.0          1.0           3.0\n",
       "27115                Hawaii            5.0          7.0           7.0\n",
       "27116  District of Columbia            6.0          1.0           5.0\n",
       "27117                Hawaii            7.0          5.0           6.0\n",
       "\n",
       "[26420 rows x 4 columns]"
      ]
     },
     "execution_count": 23,
     "metadata": {},
     "output_type": "execute_result"
    }
   ],
   "source": [
    "def gen_geo_df(mini_df):\n",
    "    state_math_avg =df[['state','math_conf_lvl']].groupby('state').mean().reset_index()\n",
    "    state_math_avg=state_math_avg.sort_values(by='state')\n",
    "\n",
    "    state_sat_avg =df[['state','fin_sat_lvl']].groupby('state').mean().reset_index()\n",
    "    state_sat_avg=state_sat_avg.sort_values(by='state')\n",
    "\n",
    "    fin_conf_avg = df[['state','fin_conf_lvl']].groupby('state').mean().reset_index()\n",
    "    fin_conf_avg = fin_conf_avg.sort_values(by='state')\n",
    "    # Load file\n",
    "    url = \"https://raw.githubusercontent.com/holtzy/The-Python-Graph-Gallery/master/static/data/us_states_hexgrid.geojson.json\"\n",
    "    geoData = gpd.read_file(url)\n",
    "    # Add a new column to the geo dataframe that will be used for joining:\n",
    "    geoData['state'] = geoData['google_name'].str.replace('(United States)','')\n",
    "    # Sort by column: 'state' (ascending)\n",
    "    geoData = geoData.sort_values(['state']).reset_index()\n",
    "    # Drop column: 'bees'\n",
    "    geoData = geoData.drop(columns=['bees', 'index'])\n",
    "    #Create Columns from subsets\n",
    "    geoData['fin_sat_avg'] = state_sat_avg['fin_sat_lvl']\n",
    "    geoData['math_conf_avg'] = state_math_avg['math_conf_lvl']\n",
    "    geoData['fin_conf_avg'] = fin_conf_avg['fin_conf_lvl']\n",
    "    return geoData\n"
   ]
  },
  {
   "cell_type": "code",
   "execution_count": 12,
   "metadata": {},
   "outputs": [],
   "source": [
    "def gen_hexbin_map(option):\n",
    "    \"\"\"\n",
    "    Generated hexbin map based on user selection\n",
    "    \"\"\"\n",
    "    return f'You picked {option}'"
   ]
  },
  {
   "cell_type": "code",
   "execution_count": 13,
   "metadata": {},
   "outputs": [
    {
     "data": {
      "text/plain": [
       "'You picked  cookie'"
      ]
     },
     "execution_count": 13,
     "metadata": {},
     "output_type": "execute_result"
    }
   ],
   "source": [
    "gen_hexbin_map('cookie')"
   ]
  }
 ],
 "metadata": {
  "kernelspec": {
   "display_name": "base",
   "language": "python",
   "name": "python3"
  },
  "language_info": {
   "codemirror_mode": {
    "name": "ipython",
    "version": 3
   },
   "file_extension": ".py",
   "mimetype": "text/x-python",
   "name": "python",
   "nbconvert_exporter": "python",
   "pygments_lexer": "ipython3",
   "version": "3.11.7"
  }
 },
 "nbformat": 4,
 "nbformat_minor": 2
}
