{
 "cells": [
  {
   "cell_type": "code",
   "execution_count": 29,
   "metadata": {},
   "outputs": [],
   "source": [
    "import pandas as pd\n",
    "import geopandas as gpd\n",
    "from matplotlib.colors import Normalize"
   ]
  },
  {
   "cell_type": "code",
   "execution_count": 3,
   "metadata": {},
   "outputs": [],
   "source": [
    "def csv_to_df(file_path:str):\n",
    "    \"\"\"\n",
    "    Takes in Relative Path for CSV file\n",
    "    Returns pandas dataframe\n",
    "    \"\"\"\n",
    "    return pd.read_csv(file_path)\n"
   ]
  },
  {
   "cell_type": "code",
   "execution_count": 14,
   "metadata": {},
   "outputs": [],
   "source": [
    "df = csv_to_df(\"../data/2021-SxS-Data-and-Data-Info/partial_cleaned_2021.csv\")"
   ]
  },
  {
   "cell_type": "code",
   "execution_count": 24,
   "metadata": {},
   "outputs": [],
   "source": [
    "def gen_big_3_df(df):\n",
    "    feature_df = df[['state','math_conf_lvl','fin_sat_lvl','fin_conf_lvl']]\n",
    "\n",
    "    # Define the columns and values to replace\n",
    "    columns_dict = {\n",
    "        'math_conf_lvl': [99, 98],\n",
    "        'fin_sat_lvl': [99, 98],\n",
    "        'fin_conf_lvl': [99, 98],\n",
    "   \n",
    "    }\n",
    "    # Loop over the dictionary to replace the values\n",
    "    for column, values in columns_dict.items():\n",
    "        for value in values:\n",
    "            feature_df.loc[feature_df[column] == value, column] = None\n",
    "    feature_df = feature_df.dropna()\n",
    "    return feature_df"
   ]
  },
  {
   "cell_type": "code",
   "execution_count": 26,
   "metadata": {},
   "outputs": [],
   "source": [
    "big_3_df = gen_big_3_df(df)"
   ]
  },
  {
   "cell_type": "code",
   "execution_count": 27,
   "metadata": {},
   "outputs": [],
   "source": [
    "def gen_geo_df(mini_df):\n",
    "    state_math_avg =df[['state','math_conf_lvl']].groupby('state').mean().reset_index()\n",
    "    state_math_avg=state_math_avg.sort_values(by='state')\n",
    "\n",
    "    state_sat_avg =df[['state','fin_sat_lvl']].groupby('state').mean().reset_index()\n",
    "    state_sat_avg=state_sat_avg.sort_values(by='state')\n",
    "\n",
    "    fin_conf_avg = df[['state','fin_conf_lvl']].groupby('state').mean().reset_index()\n",
    "    fin_conf_avg = fin_conf_avg.sort_values(by='state')\n",
    "    # Load file\n",
    "    url = \"https://raw.githubusercontent.com/holtzy/The-Python-Graph-Gallery/master/static/data/us_states_hexgrid.geojson.json\"\n",
    "    geoData = gpd.read_file(url)\n",
    "    # Add a new column to the geo dataframe that will be used for joining:\n",
    "    geoData['state'] = geoData['google_name'].str.replace('(United States)','')\n",
    "    # Sort by column: 'state' (ascending)\n",
    "    geoData = geoData.sort_values(['state']).reset_index()\n",
    "    # Drop column: 'bees'\n",
    "    geoData = geoData.drop(columns=['bees', 'index'])\n",
    "    #Create Columns from subsets\n",
    "    geoData['fin_sat_avg'] = state_sat_avg['fin_sat_lvl']\n",
    "    geoData['math_conf_avg'] = state_math_avg['math_conf_lvl']\n",
    "    geoData['fin_conf_avg'] = fin_conf_avg['fin_conf_lvl']\n",
    "    return geoData\n"
   ]
  },
  {
   "cell_type": "code",
   "execution_count": null,
   "metadata": {},
   "outputs": [],
   "source": [
    "gen_geo_df(big_3_df)"
   ]
  },
  {
   "cell_type": "code",
   "execution_count": 12,
   "metadata": {},
   "outputs": [],
   "source": [
    "def gen_hexbin_map(geo_df):\n",
    "    \"\"\"\n",
    "    Generated hexbin map based on user selection\n",
    "    \"\"\"\n",
    "    # Initialize the figure\n",
    "fig, ax = plt.subplots(1, figsize=(13, 13))\n",
    "\n",
    "\n",
    "# Draw a map with matplotlib \n",
    "geoData.plot(\n",
    "    ax=ax, \n",
    "    column='fin_sat_avg',\n",
    "    cmap=\"BuPu\",\n",
    "    edgecolor='black', \n",
    "    linewidth=.5,\n",
    "    legend=False\n",
    ")\n",
    "# add a \"centroid\" column with the centroid position of each state\n",
    "geoData['centroid'] = geoData['geometry'].apply(lambda x: x.centroid)\n",
    "\n",
    "# for each state, annotate with the state name located at the centroid coordinates \n",
    "for idx, row in geoData.iterrows():\n",
    "    ax.annotate(\n",
    "        text=row['iso3166_2'], \n",
    "        xy=row['centroid'].coords[0], \n",
    "        horizontalalignment='center', \n",
    "        va='center',\n",
    "        color= 'black'\n",
    "    )\n",
    "# Remove axis\n",
    "ax.axis('off')\n",
    "\n",
    "plt.title('Average Financial Satisfaction' , size= 20)\n",
    "\n",
    "# Add a color bar\n",
    "norm = Normalize(vmin=geoData['fin_sat_avg'].min(), vmax=geoData['fin_sat_avg'].max())\n",
    "sm = plt.cm.ScalarMappable(cmap='BuPu', norm=norm)\n",
    "sm.set_array([geoData['fin_sat_avg']]) \n",
    "fig.colorbar(sm, orientation=\"horizontal\",  aspect=50,fraction=0.005, pad=0, ax = ax )\n",
    "    return f'You picked {option}'"
   ]
  },
  {
   "cell_type": "code",
   "execution_count": 35,
   "metadata": {},
   "outputs": [],
   "source": [
    "feature = 'Finacial Satisfaction'\n",
    "options = {\n",
    "    'Finacial Satisfaction': 'fin_sat_lvl', \n",
    "    'Financial Confidence': 'fin_conf_lvl', \n",
    "    'Math Confidence': 'math_conf_lvl'\n",
    "    }\n",
    "\n",
    "selection = [options[feature]]"
   ]
  },
  {
   "cell_type": "code",
   "execution_count": 36,
   "metadata": {},
   "outputs": [
    {
     "data": {
      "text/plain": [
       "['fin_sat_lvl']"
      ]
     },
     "execution_count": 36,
     "metadata": {},
     "output_type": "execute_result"
    }
   ],
   "source": [
    "selection"
   ]
  }
 ],
 "metadata": {
  "kernelspec": {
   "display_name": "base",
   "language": "python",
   "name": "python3"
  },
  "language_info": {
   "codemirror_mode": {
    "name": "ipython",
    "version": 3
   },
   "file_extension": ".py",
   "mimetype": "text/x-python",
   "name": "python",
   "nbconvert_exporter": "python",
   "pygments_lexer": "ipython3",
   "version": "3.11.7"
  }
 },
 "nbformat": 4,
 "nbformat_minor": 2
}
