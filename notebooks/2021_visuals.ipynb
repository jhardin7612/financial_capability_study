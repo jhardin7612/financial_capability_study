{
 "cells": [
  {
   "cell_type": "code",
   "execution_count": 2,
   "metadata": {},
   "outputs": [
    {
     "data": {
      "text/html": [
       "<div>\n",
       "<style scoped>\n",
       "    .dataframe tbody tr th:only-of-type {\n",
       "        vertical-align: middle;\n",
       "    }\n",
       "\n",
       "    .dataframe tbody tr th {\n",
       "        vertical-align: top;\n",
       "    }\n",
       "\n",
       "    .dataframe thead th {\n",
       "        text-align: right;\n",
       "    }\n",
       "</style>\n",
       "<table border=\"1\" class=\"dataframe\">\n",
       "  <thead>\n",
       "    <tr style=\"text-align: right;\">\n",
       "      <th></th>\n",
       "      <th>state</th>\n",
       "      <th>division</th>\n",
       "      <th>region</th>\n",
       "      <th>gender</th>\n",
       "      <th>age_group</th>\n",
       "      <th>ethnicity</th>\n",
       "      <th>ed_lvl</th>\n",
       "      <th>marital_stat</th>\n",
       "      <th>lvng_arr</th>\n",
       "      <th>marital_stat_v2</th>\n",
       "      <th>...</th>\n",
       "      <th>10k_expense</th>\n",
       "      <th>10k_gift</th>\n",
       "      <th>expect_inheritance</th>\n",
       "      <th>num_cred_cards</th>\n",
       "      <th>health_ins</th>\n",
       "      <th>skipped_med</th>\n",
       "      <th>fin_conf_lvl</th>\n",
       "      <th>math_conf_lvl</th>\n",
       "      <th>knowledge_conf_lvl</th>\n",
       "      <th>fin_ed</th>\n",
       "    </tr>\n",
       "  </thead>\n",
       "  <tbody>\n",
       "    <tr>\n",
       "      <th>0</th>\n",
       "      <td>South Carolina</td>\n",
       "      <td>South Atlantic</td>\n",
       "      <td>South</td>\n",
       "      <td>female</td>\n",
       "      <td>25-34</td>\n",
       "      <td>white</td>\n",
       "      <td>Bachelors</td>\n",
       "      <td>married</td>\n",
       "      <td>2</td>\n",
       "      <td>married</td>\n",
       "      <td>...</td>\n",
       "      <td>1</td>\n",
       "      <td>1</td>\n",
       "      <td>1</td>\n",
       "      <td>2</td>\n",
       "      <td>1</td>\n",
       "      <td>2</td>\n",
       "      <td>7</td>\n",
       "      <td>6</td>\n",
       "      <td>6</td>\n",
       "      <td>2</td>\n",
       "    </tr>\n",
       "    <tr>\n",
       "      <th>1</th>\n",
       "      <td>Ohio</td>\n",
       "      <td>East North Central</td>\n",
       "      <td>Midwest</td>\n",
       "      <td>female</td>\n",
       "      <td>25-34</td>\n",
       "      <td>white</td>\n",
       "      <td>Bachelors</td>\n",
       "      <td>divorced</td>\n",
       "      <td>1</td>\n",
       "      <td>single</td>\n",
       "      <td>...</td>\n",
       "      <td>2</td>\n",
       "      <td>2</td>\n",
       "      <td>2</td>\n",
       "      <td>7</td>\n",
       "      <td>1</td>\n",
       "      <td>2</td>\n",
       "      <td>1</td>\n",
       "      <td>1</td>\n",
       "      <td>2</td>\n",
       "      <td>2</td>\n",
       "    </tr>\n",
       "    <tr>\n",
       "      <th>2</th>\n",
       "      <td>Arizona</td>\n",
       "      <td>Mountain</td>\n",
       "      <td>West</td>\n",
       "      <td>male</td>\n",
       "      <td>65+</td>\n",
       "      <td>white</td>\n",
       "      <td>Bachelors</td>\n",
       "      <td>divorced</td>\n",
       "      <td>1</td>\n",
       "      <td>single</td>\n",
       "      <td>...</td>\n",
       "      <td>2</td>\n",
       "      <td>2</td>\n",
       "      <td>2</td>\n",
       "      <td>3</td>\n",
       "      <td>1</td>\n",
       "      <td>2</td>\n",
       "      <td>7</td>\n",
       "      <td>7</td>\n",
       "      <td>6</td>\n",
       "      <td>2</td>\n",
       "    </tr>\n",
       "    <tr>\n",
       "      <th>3</th>\n",
       "      <td>Arizona</td>\n",
       "      <td>Mountain</td>\n",
       "      <td>West</td>\n",
       "      <td>female</td>\n",
       "      <td>45-54</td>\n",
       "      <td>non-white</td>\n",
       "      <td>HS Grad</td>\n",
       "      <td>married</td>\n",
       "      <td>2</td>\n",
       "      <td>married</td>\n",
       "      <td>...</td>\n",
       "      <td>2</td>\n",
       "      <td>2</td>\n",
       "      <td>2</td>\n",
       "      <td>2</td>\n",
       "      <td>1</td>\n",
       "      <td>2</td>\n",
       "      <td>7</td>\n",
       "      <td>6</td>\n",
       "      <td>5</td>\n",
       "      <td>3</td>\n",
       "    </tr>\n",
       "    <tr>\n",
       "      <th>4</th>\n",
       "      <td>Ohio</td>\n",
       "      <td>East North Central</td>\n",
       "      <td>Midwest</td>\n",
       "      <td>female</td>\n",
       "      <td>45-54</td>\n",
       "      <td>white</td>\n",
       "      <td>GED</td>\n",
       "      <td>divorced</td>\n",
       "      <td>1</td>\n",
       "      <td>single</td>\n",
       "      <td>...</td>\n",
       "      <td>2</td>\n",
       "      <td>2</td>\n",
       "      <td>98</td>\n",
       "      <td>7</td>\n",
       "      <td>1</td>\n",
       "      <td>2</td>\n",
       "      <td>6</td>\n",
       "      <td>6</td>\n",
       "      <td>5</td>\n",
       "      <td>3</td>\n",
       "    </tr>\n",
       "  </tbody>\n",
       "</table>\n",
       "<p>5 rows × 41 columns</p>\n",
       "</div>"
      ],
      "text/plain": [
       "            state            division   region  gender age_group  ethnicity  \\\n",
       "0  South Carolina      South Atlantic    South  female     25-34      white   \n",
       "1            Ohio  East North Central  Midwest  female     25-34      white   \n",
       "2         Arizona            Mountain     West    male       65+      white   \n",
       "3         Arizona            Mountain     West  female     45-54  non-white   \n",
       "4            Ohio  East North Central  Midwest  female     45-54      white   \n",
       "\n",
       "      ed_lvl marital_stat  lvng_arr marital_stat_v2  ...  10k_expense  \\\n",
       "0  Bachelors      married         2         married  ...            1   \n",
       "1  Bachelors     divorced         1          single  ...            2   \n",
       "2  Bachelors     divorced         1          single  ...            2   \n",
       "3    HS Grad      married         2         married  ...            2   \n",
       "4        GED     divorced         1          single  ...            2   \n",
       "\n",
       "  10k_gift expect_inheritance num_cred_cards health_ins  skipped_med  \\\n",
       "0        1                  1              2          1            2   \n",
       "1        2                  2              7          1            2   \n",
       "2        2                  2              3          1            2   \n",
       "3        2                  2              2          1            2   \n",
       "4        2                 98              7          1            2   \n",
       "\n",
       "  fin_conf_lvl  math_conf_lvl knowledge_conf_lvl fin_ed  \n",
       "0            7              6                  6      2  \n",
       "1            1              1                  2      2  \n",
       "2            7              7                  6      2  \n",
       "3            7              6                  5      3  \n",
       "4            6              6                  5      3  \n",
       "\n",
       "[5 rows x 41 columns]"
      ]
     },
     "execution_count": 2,
     "metadata": {},
     "output_type": "execute_result"
    }
   ],
   "source": [
    "import pandas as pd\n",
    "import numpy as np\n",
    "import matplotlib.pyplot as plt\n",
    "import seaborn as sns\n",
    "import plotly.express as px\n",
    "\n",
    "raw_data = pd.read_csv('../data/2021-SxS-Data-and-Data-Info/partial_cleaned_2021.csv')\n",
    "raw_data.drop(columns='Unnamed: 0', inplace= True)\n",
    "raw_data.head()\n"
   ]
  },
  {
   "cell_type": "code",
   "execution_count": 3,
   "metadata": {},
   "outputs": [
    {
     "data": {
      "text/plain": [
       "Index(['state', 'division', 'region', 'gender', 'age_group', 'ethnicity',\n",
       "       'ed_lvl', 'marital_stat', 'lvng_arr', 'marital_stat_v2', '#_dep_chlds',\n",
       "       'hh_ann_inc', 'mil_stat', 'wrk_stat', 'ptr_wrk_stat', 'hh_ret_stat',\n",
       "       'caregiver_ed_lvl', 'fin_sat_lvl', 'spend_vs_income', 'bill_difficulty',\n",
       "       'income_var', 'rainyday_fund', 'child_ed_svng', 'credit_rtg',\n",
       "       'mnthly_leftovers', 'checking_acct', 'saving_acct', 'ret_plan', 'ira',\n",
       "       'invests', 'owns_home', '10k_expense', '10k_gift', 'expect_inheritance',\n",
       "       'num_cred_cards', 'health_ins', 'skipped_med', 'fin_conf_lvl',\n",
       "       'math_conf_lvl', 'knowledge_conf_lvl', 'fin_ed'],\n",
       "      dtype='object')"
      ]
     },
     "execution_count": 3,
     "metadata": {},
     "output_type": "execute_result"
    }
   ],
   "source": [
    "#Creating a couple subsets\n",
    "mil_only_df = raw_data[(raw_data['mil_stat'] == 'current') | (raw_data['mil_stat'] == 'previous')]\n",
    "mil_only_df.columns"
   ]
  },
  {
   "cell_type": "markdown",
   "metadata": {},
   "source": [
    "## Demograhics"
   ]
  },
  {
   "cell_type": "code",
   "execution_count": 4,
   "metadata": {},
   "outputs": [
    {
     "data": {
      "text/plain": [
       "(-1.0999999853217814,\n",
       " 1.0999999993010372,\n",
       " -1.0999993248722122,\n",
       " 1.099999957293099)"
      ]
     },
     "execution_count": 4,
     "metadata": {},
     "output_type": "execute_result"
    },
    {
     "data": {
      "image/png": "[encoded data removed]",
      "text/plain": [
       "<Figure size 640x480 with 1 Axes>"
      ]
     },
     "metadata": {},
     "output_type": "display_data"
    }
   ],
   "source": [
    "#Age Break Down\n",
    "age_labels = mil_only_df['age_group'].unique()\n",
    "mil_age_counts = mil_only_df['age_group'].value_counts()\n",
    "total_age_count =raw_data['age_group'].value_counts()\n",
    "\n",
    "plt.pie(mil_age_counts, labels=age_labels,\n",
    "            autopct='%1.1f%%' )\n",
    "plt.axis('equal')\n"
   ]
  },
  {
   "cell_type": "code",
   "execution_count": 5,
   "metadata": {},
   "outputs": [
    {
     "data": {
      "text/plain": [
       "age_group\n",
       "65+      5501\n",
       "55-64    4731\n",
       "25-34    4696\n",
       "45-54    4617\n",
       "35-44    4564\n",
       "18-24    3009\n",
       "Name: count, dtype: int64"
      ]
     },
     "execution_count": 5,
     "metadata": {},
     "output_type": "execute_result"
    }
   ],
   "source": [
    "total_age_count"
   ]
  },
  {
   "cell_type": "code",
   "execution_count": 6,
   "metadata": {},
   "outputs": [
    {
     "data": {
      "text/plain": [
       "Text(0, 0.5, 'Total Count')"
      ]
     },
     "execution_count": 6,
     "metadata": {},
     "output_type": "execute_result"
    },
    {
     "data": {
      "image/png": "[encoded data removed]",
      "text/plain": [
       "<Figure size 640x480 with 1 Axes>"
      ]
     },
     "metadata": {},
     "output_type": "display_data"
    }
   ],
   "source": [
    "fig, ax = plt.subplots()\n",
    "#Total Population Age Distro\n",
    "bars1 = plt.bar(raw_data['age_group'].unique(), raw_data['age_group'].value_counts().sort_values() )\n",
    "#military only (current or previous)\n",
    "ax.bar(mil_only_df['age_group'].unique(), mil_only_df['age_group'].value_counts().sort_values())\n",
    "\n",
    "# Hide the all but the bottom spines (axis lines)\n",
    "ax.spines[\"right\"].set_visible(False)\n",
    "ax.spines[\"left\"].set_visible(False)\n",
    "ax.spines[\"top\"].set_visible(False)\n",
    "\n",
    "# Only show ticks on the left and bottom spines\n",
    "ax.yaxis.set_ticks_position(\"left\")\n",
    "ax.xaxis.set_ticks_position(\"bottom\")\n",
    "\n",
    "\n",
    "#Labels\n",
    "ax.set_title('Age Distribution')\n",
    "ax.set_xlabel('Age Groups')\n",
    "ax.set_ylabel('Total Count')\n"
   ]
  },
  {
   "cell_type": "code",
   "execution_count": 22,
   "metadata": {},
   "outputs": [],
   "source": [
    "#Financial Confidence Level\n",
    "fin_conf_level = raw_data[['state','fin_conf_lvl']].groupby('state').mean()\n",
    "\n",
    "#Financial Sat\n",
    "sat_lvl_df = raw_data[['state', 'fin_sat_lvl']].groupby('state').mean()\n",
    "\n",
    "#Bill Difficulty\n",
    "bill_df = raw_data.groupby('state')['bill_difficulty'].value_counts().reset_index()\n",
    "bill_df = bill_df.pivot(index='state', columns='bill_difficulty', values= 'count')\n",
    "\n"
   ]
  },
  {
   "cell_type": "code",
   "execution_count": 27,
   "metadata": {},
   "outputs": [
    {
     "data": {
      "text/plain": [
       "state    fin_sat_lvl\n",
       "Alabama  1              69\n",
       "         7              65\n",
       "         10             64\n",
       "         8              63\n",
       "         6              53\n",
       "                        ..\n",
       "Wyoming  6              37\n",
       "         3              33\n",
       "         2              26\n",
       "         98              4\n",
       "         99              4\n",
       "Name: count, Length: 609, dtype: int64"
      ]
     },
     "execution_count": 27,
     "metadata": {},
     "output_type": "execute_result"
    }
   ],
   "source": [
    "raw_data.groupby('state')['fin_sat_lvl'].value_counts()\n"
   ]
  },
  {
   "cell_type": "code",
   "execution_count": 19,
   "metadata": {},
   "outputs": [
    {
     "data": {
      "image/png": "[encoded data removed]",
      "text/plain": [
       "<Figure size 640x480 with 1 Axes>"
      ]
     },
     "metadata": {},
     "output_type": "display_data"
    }
   ],
   "source": [
    "fig, ax = plt.subplots()\n",
    "plt.hist(fin_conf_level, label='Confidence', alpha=0.5)\n",
    "plt.hist(sat_lvl_df, label='Satisfaction', alpha=0.5)\n",
    "\n",
    "plt.legend(loc='upper right')\n",
    "plt.title('Financial Satisfaction VS Confidence')\n",
    "plt.xlabel('Personal Rating')\n",
    "\n",
    "# Hide the all but the bottom spines (axis lines)\n",
    "ax.spines[\"right\"].set_visible(False)\n",
    "ax.spines[\"left\"].set_visible(False)\n",
    "ax.spines[\"top\"].set_visible(False)\n",
    "\n",
    "# Only show ticks on the left and bottom spines\n",
    "ax.yaxis.set_ticks_position(\"left\")\n",
    "ax.xaxis.set_ticks_position(\"bottom\")"
   ]
  },
  {
   "cell_type": "markdown",
   "metadata": {},
   "source": [
    "## Hexbin Map\n",
    "code used largely from https://python-graph-gallery.com/hexbin-map-from-geojson-python/"
   ]
  },
  {
   "cell_type": "code",
   "execution_count": 8,
   "metadata": {},
   "outputs": [
    {
     "name": "stderr",
     "output_type": "stream",
     "text": [
      "/opt/anaconda3/lib/python3.11/site-packages/geopandas/io/file.py:399: FutureWarning: errors='ignore' is deprecated and will raise in a future version. Use to_datetime without passing `errors` and catch exceptions explicitly instead\n",
      "  as_dt = pd.to_datetime(df[k], errors=\"ignore\")\n",
      "/opt/anaconda3/lib/python3.11/site-packages/geopandas/io/file.py:399: FutureWarning: errors='ignore' is deprecated and will raise in a future version. Use to_datetime without passing `errors` and catch exceptions explicitly instead\n",
      "  as_dt = pd.to_datetime(df[k], errors=\"ignore\")\n"
     ]
    }
   ],
   "source": [
    "# Import geopandas library\n",
    "import geopandas as gpd\n",
    "\n",
    "# Load file\n",
    "url = \"https://raw.githubusercontent.com/holtzy/The-Python-Graph-Gallery/master/static/data/us_states_hexgrid.geojson.json\"\n",
    "geoData = gpd.read_file(url)"
   ]
  },
  {
   "cell_type": "code",
   "execution_count": 9,
   "metadata": {},
   "outputs": [
    {
     "data": {
      "image/png": "[encoded data removed]",
      "text/plain": [
       "<Figure size 640x480 with 1 Axes>"
      ]
     },
     "metadata": {},
     "output_type": "display_data"
    }
   ],
   "source": [
    "# Set the plot size for this notebook:\n",
    "#fig, ax = plt.subplots(1, figsize=(13, 13))\n",
    "\n",
    "# redraw the empty hexbin map:\n",
    "geoData.plot(ax=ax, column =sat_lvl_df['fin_sat_lvl'],\n",
    "                cmap='BuPu' ,\n",
    "                edgecolor='black', \n",
    "                linewidth=.5\n",
    "                )\n",
    "\n",
    "plt.axis('off')\n",
    "\n",
    "# add a \"centroid\" column with the centroid position of each county\n",
    "geoData['centroid'] = geoData['geometry'].apply(lambda x: x.centroid)\n",
    "\n",
    "# for each state, annotate with the state name located at the centroid coordinates \n",
    "for idx, row in geoData.iterrows():\n",
    "    plt.annotate(text=row['iso3166_2'], xy=row['centroid'].coords[0], horizontalalignment='center', va='center')\n",
    "\n",
    "# Add a new column to the geo dataframe that will be used for joining:\n",
    "geoData['state'] = geoData['google_name'].str.replace('(United States)','')\n",
    "# Merge the mariage dataset with the geospatial information\n",
    "geoData = geoData.set_index('state').join(raw_data.set_index('state'))"
   ]
  }
 ],
 "metadata": {
  "kernelspec": {
   "display_name": "base",
   "language": "python",
   "name": "python3"
  },
  "language_info": {
   "codemirror_mode": {
    "name": "ipython",
    "version": 3
   },
   "file_extension": ".py",
   "mimetype": "text/x-python",
   "name": "python",
   "nbconvert_exporter": "python",
   "pygments_lexer": "ipython3",
   "version": "3.11.7"
  }
 },
 "nbformat": 4,
 "nbformat_minor": 2
}
